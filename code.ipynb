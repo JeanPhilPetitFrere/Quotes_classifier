{
 "cells": [
  {
   "cell_type": "code",
   "execution_count": 2,
   "source": [
    "import pandas as pd"
   ],
   "outputs": [],
   "metadata": {}
  },
  {
   "cell_type": "code",
   "execution_count": 3,
   "source": [
    "df = pd.read_csv('/Users/jeanphilippepetit-frere/Python_projects/Quotes_classifier/quotes.csv')"
   ],
   "outputs": [],
   "metadata": {}
  },
  {
   "cell_type": "code",
   "execution_count": 4,
   "source": [
    "df"
   ],
   "outputs": [
    {
     "output_type": "execute_result",
     "data": {
      "text/html": [
       "<div>\n",
       "<style scoped>\n",
       "    .dataframe tbody tr th:only-of-type {\n",
       "        vertical-align: middle;\n",
       "    }\n",
       "\n",
       "    .dataframe tbody tr th {\n",
       "        vertical-align: top;\n",
       "    }\n",
       "\n",
       "    .dataframe thead th {\n",
       "        text-align: right;\n",
       "    }\n",
       "</style>\n",
       "<table border=\"1\" class=\"dataframe\">\n",
       "  <thead>\n",
       "    <tr style=\"text-align: right;\">\n",
       "      <th></th>\n",
       "      <th>Unnamed: 0</th>\n",
       "      <th>quote</th>\n",
       "      <th>author</th>\n",
       "      <th>tags</th>\n",
       "    </tr>\n",
       "  </thead>\n",
       "  <tbody>\n",
       "    <tr>\n",
       "      <th>0</th>\n",
       "      <td>0</td>\n",
       "      <td>“Be yourself; everyone else is already taken.”</td>\n",
       "      <td>Oscar Wilde</td>\n",
       "      <td>['be-yourself', 'gilbert-perreira', 'honesty',...</td>\n",
       "    </tr>\n",
       "    <tr>\n",
       "      <th>1</th>\n",
       "      <td>1</td>\n",
       "      <td>“I'm selfish, impatient and a little insecure....</td>\n",
       "      <td>Marilyn Monroe</td>\n",
       "      <td>['best', 'life', 'love', 'mistakes', 'out-of-c...</td>\n",
       "    </tr>\n",
       "    <tr>\n",
       "      <th>2</th>\n",
       "      <td>2</td>\n",
       "      <td>“Two things are infinite: the universe and hum...</td>\n",
       "      <td>Albert Einstein</td>\n",
       "      <td>['human-nature', 'humor', 'infinity', 'philoso...</td>\n",
       "    </tr>\n",
       "    <tr>\n",
       "      <th>3</th>\n",
       "      <td>3</td>\n",
       "      <td>“So many books, so little time.”</td>\n",
       "      <td>Frank Zappa</td>\n",
       "      <td>['books', 'humor']</td>\n",
       "    </tr>\n",
       "    <tr>\n",
       "      <th>4</th>\n",
       "      <td>4</td>\n",
       "      <td>“A room without books is like a body without a...</td>\n",
       "      <td>Marcus Tullius Cicero</td>\n",
       "      <td>['books', 'simile', 'soul']</td>\n",
       "    </tr>\n",
       "    <tr>\n",
       "      <th>...</th>\n",
       "      <td>...</td>\n",
       "      <td>...</td>\n",
       "      <td>...</td>\n",
       "      <td>...</td>\n",
       "    </tr>\n",
       "    <tr>\n",
       "      <th>2503</th>\n",
       "      <td>2995</td>\n",
       "      <td>“Morality is simply the attitude we adopt towa...</td>\n",
       "      <td>Oscar Wilde,</td>\n",
       "      <td>['morality', 'philosophy']</td>\n",
       "    </tr>\n",
       "    <tr>\n",
       "      <th>2504</th>\n",
       "      <td>2996</td>\n",
       "      <td>“Don't aim at success. The more you aim at it ...</td>\n",
       "      <td>Viktor E. Frankl,</td>\n",
       "      <td>['happiness', 'success']</td>\n",
       "    </tr>\n",
       "    <tr>\n",
       "      <th>2505</th>\n",
       "      <td>2997</td>\n",
       "      <td>“In life, finding a voice is speaking and livi...</td>\n",
       "      <td>John Grisham</td>\n",
       "      <td>['inspirational-life']</td>\n",
       "    </tr>\n",
       "    <tr>\n",
       "      <th>2506</th>\n",
       "      <td>2998</td>\n",
       "      <td>“Winter is the time for comfort, for good food...</td>\n",
       "      <td>Edith Sitwell</td>\n",
       "      <td>['comfort', 'home', 'winter']</td>\n",
       "    </tr>\n",
       "    <tr>\n",
       "      <th>2507</th>\n",
       "      <td>2999</td>\n",
       "      <td>“Silence is so freaking loud”</td>\n",
       "      <td>Sarah Dessen,</td>\n",
       "      <td>['just-listen', 'loud', 'owen', 'sara-dessen',...</td>\n",
       "    </tr>\n",
       "  </tbody>\n",
       "</table>\n",
       "<p>2508 rows × 4 columns</p>\n",
       "</div>"
      ],
      "text/plain": [
       "      Unnamed: 0                                              quote  \\\n",
       "0              0     “Be yourself; everyone else is already taken.”   \n",
       "1              1  “I'm selfish, impatient and a little insecure....   \n",
       "2              2  “Two things are infinite: the universe and hum...   \n",
       "3              3                   “So many books, so little time.”   \n",
       "4              4  “A room without books is like a body without a...   \n",
       "...          ...                                                ...   \n",
       "2503        2995  “Morality is simply the attitude we adopt towa...   \n",
       "2504        2996  “Don't aim at success. The more you aim at it ...   \n",
       "2505        2997  “In life, finding a voice is speaking and livi...   \n",
       "2506        2998  “Winter is the time for comfort, for good food...   \n",
       "2507        2999                      “Silence is so freaking loud”   \n",
       "\n",
       "                     author                                               tags  \n",
       "0               Oscar Wilde  ['be-yourself', 'gilbert-perreira', 'honesty',...  \n",
       "1            Marilyn Monroe  ['best', 'life', 'love', 'mistakes', 'out-of-c...  \n",
       "2           Albert Einstein  ['human-nature', 'humor', 'infinity', 'philoso...  \n",
       "3               Frank Zappa                                 ['books', 'humor']  \n",
       "4     Marcus Tullius Cicero                        ['books', 'simile', 'soul']  \n",
       "...                     ...                                                ...  \n",
       "2503           Oscar Wilde,                         ['morality', 'philosophy']  \n",
       "2504      Viktor E. Frankl,                           ['happiness', 'success']  \n",
       "2505           John Grisham                             ['inspirational-life']  \n",
       "2506          Edith Sitwell                      ['comfort', 'home', 'winter']  \n",
       "2507          Sarah Dessen,  ['just-listen', 'loud', 'owen', 'sara-dessen',...  \n",
       "\n",
       "[2508 rows x 4 columns]"
      ]
     },
     "metadata": {},
     "execution_count": 4
    }
   ],
   "metadata": {}
  },
  {
   "cell_type": "code",
   "execution_count": 5,
   "source": [
    "df1 = df[['quote']]"
   ],
   "outputs": [
    {
     "output_type": "stream",
     "name": "stdout",
     "text": [
      "<class 'pandas.core.frame.DataFrame'>\n",
      "RangeIndex: 2508 entries, 0 to 2507\n",
      "Data columns (total 4 columns):\n",
      " #   Column      Non-Null Count  Dtype \n",
      "---  ------      --------------  ----- \n",
      " 0   Unnamed: 0  2508 non-null   int64 \n",
      " 1   quote       2508 non-null   object\n",
      " 2   author      2508 non-null   object\n",
      " 3   tags        2508 non-null   object\n",
      "dtypes: int64(1), object(3)\n",
      "memory usage: 78.5+ KB\n"
     ]
    }
   ],
   "metadata": {}
  },
  {
   "cell_type": "code",
   "execution_count": null,
   "source": [
    "#use nlp and clustering on the dataset\n",
    "#gridsearch"
   ],
   "outputs": [],
   "metadata": {}
  }
 ],
 "metadata": {
  "orig_nbformat": 4,
  "language_info": {
   "name": "python",
   "version": "3.9.2",
   "mimetype": "text/x-python",
   "codemirror_mode": {
    "name": "ipython",
    "version": 3
   },
   "pygments_lexer": "ipython3",
   "nbconvert_exporter": "python",
   "file_extension": ".py"
  },
  "kernelspec": {
   "name": "python3",
   "display_name": "Python 3.9.2 64-bit"
  },
  "interpreter": {
   "hash": "aee8b7b246df8f9039afb4144a1f6fd8d2ca17a180786b69acc140d282b71a49"
  }
 },
 "nbformat": 4,
 "nbformat_minor": 2
}